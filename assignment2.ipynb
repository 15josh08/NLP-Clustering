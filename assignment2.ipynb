{
 "cells": [
  {
   "cell_type": "code",
   "execution_count": 1,
   "metadata": {},
   "outputs": [],
   "source": [
    "import pandas as pd\n",
    "import numpy as np\n",
    "import matplotlib.pyplot as plt\n",
    "from sklearn.metrics import accuracy_score\n",
    "from sklearn.model_selection import cross_val_score"
   ]
  },
  {
   "cell_type": "code",
   "execution_count": 2,
   "metadata": {},
   "outputs": [],
   "source": [
    "import pandas as pd\n",
    "import numpy as np\n",
    "import matplotlib.pyplot as plt\n",
    "from sklearn.metrics import accuracy_score\n",
    "from sklearn.model_selection import cross_val_score\n",
    "import random\n",
    "import requests\n",
    "\n",
    "def sample_books(book_urls,labels):\n",
    "    # Create a list to store the DataFrames\n",
    "    dataframes = []\n",
    "    # Iterate over the book URLs and labels\n",
    "    for url,label in zip(book_urls,labels):\n",
    "        # Download book from Gutenberg\n",
    "        book = requests.get(url)\n",
    "        book = book.text\n",
    "        # Split book into a list of words\n",
    "        words = book.split()\n",
    "        # Create a list to store the partitions\n",
    "        partitions = []\n",
    "        # Use a for loop to sample 200 partitions of 150 words each\n",
    "        for i in range(200):\n",
    "            start_index = random.randint(0, len(words) - 150)\n",
    "            partition = words[start_index : start_index + 150]\n",
    "            partitions.append(\" \".join(partition))\n",
    "        # Create a Pandas DataFrame to store the partitions\n",
    "        data = {'text': partitions,'book':label}\n",
    "        df = pd.DataFrame(data)\n",
    "        # Append the DataFrame to the list\n",
    "        dataframes.append(df)\n",
    "    # Concatenate the DataFrames into a single DataFrame\n",
    "    final_df = pd.concat(dataframes)\n",
    "    #return dataframe\n",
    "    return final_df\n",
    "\n",
    "book_urls = ['https://www.gutenberg.org/files/145/145-0.txt', 'https://www.gutenberg.org/files/14255/14255-8.txt','https://www.gutenberg.org/files/16807/16807-8.txt','https://www.gutenberg.org/files/20289/20289-8.txt','https://www.gutenberg.org/files/17699/17699-8.txt']\n",
    "\n",
    "labels = ['a' , 'b', 'c', 'd', 'e']\n",
    "df = sample_books(book_urls,labels)\n",
    "df.to_csv('text_data2.csv',index=False)\n",
    "# Load the data into a pandas dataframe\n",
    "df = pd.read_csv(\"text_data2.csv\")"
   ]
  },
  {
   "cell_type": "code",
   "execution_count": 3,
   "metadata": {},
   "outputs": [
    {
     "name": "stderr",
     "output_type": "stream",
     "text": [
      "C:\\Users\\joshr\\AppData\\Local\\Temp\\ipykernel_9096\\622637413.py:14: FutureWarning: The default value of regex will change from True to False in a future version.\n",
      "  df['text'] = df['text'].str.replace('[^a-zA-Z0-9\\s]','') # Remove punctuation\n"
     ]
    }
   ],
   "source": [
    "import pandas as pd\n",
    "import numpy as np\n",
    "from sklearn.feature_extraction.text import CountVectorizer, TfidfVectorizer\n",
    "from sklearn.decomposition import LatentDirichletAllocation\n",
    "from sklearn.metrics.pairwise import cosine_similarity\n",
    "from sklearn.manifold import TSNE\n",
    "import gensim.downloader as api\n",
    "\n",
    "# Load the data into a pandas dataframe\n",
    "df = pd.read_csv(\"text_data2.csv\")\n",
    "\n",
    "# Preprocess the data\n",
    "df['text'] = df['text'].str.lower() # Convert to lowercase\n",
    "df['text'] = df['text'].str.replace('[^a-zA-Z0-9\\s]','') # Remove punctuation "
   ]
  },
  {
   "cell_type": "code",
   "execution_count": 4,
   "metadata": {},
   "outputs": [
    {
     "name": "stderr",
     "output_type": "stream",
     "text": [
      "e:\\Softwares\\lib\\site-packages\\sklearn\\utils\\deprecation.py:87: FutureWarning: Function get_feature_names is deprecated; get_feature_names is deprecated in 1.0 and will be removed in 1.2. Please use get_feature_names_out instead.\n",
      "  warnings.warn(msg, category=FutureWarning)\n"
     ]
    }
   ],
   "source": [
    "# Bag of Words\n",
    "vectorizer = CountVectorizer(max_features=5000)\n",
    "bow = vectorizer.fit_transform(df['text'])\n",
    "bow_df = pd.DataFrame(bow.toarray(), columns=vectorizer.get_feature_names())"
   ]
  },
  {
   "cell_type": "code",
   "execution_count": 5,
   "metadata": {},
   "outputs": [
    {
     "name": "stderr",
     "output_type": "stream",
     "text": [
      "e:\\Softwares\\lib\\site-packages\\sklearn\\utils\\deprecation.py:87: FutureWarning: Function get_feature_names is deprecated; get_feature_names is deprecated in 1.0 and will be removed in 1.2. Please use get_feature_names_out instead.\n",
      "  warnings.warn(msg, category=FutureWarning)\n"
     ]
    }
   ],
   "source": [
    "# TF-IDF\n",
    "vectorizer = TfidfVectorizer(max_features=5000)\n",
    "tfidf = vectorizer.fit_transform(df['text'])\n",
    "tfidf_df = pd.DataFrame(tfidf.toarray(), columns=vectorizer.get_feature_names())"
   ]
  },
  {
   "cell_type": "code",
   "execution_count": 6,
   "metadata": {},
   "outputs": [],
   "source": [
    "# LDA\n",
    "vectorizer = CountVectorizer(max_features=5000)\n",
    "lda_input = vectorizer.fit_transform(df['text'])\n",
    "lda = LatentDirichletAllocation(n_components=10)\n",
    "lda_output = lda.fit_transform(lda_input)\n",
    "lda_df = pd.DataFrame(lda_output, columns=['topic'+str(i) for i in range(lda.n_components)])"
   ]
  },
  {
   "cell_type": "code",
   "execution_count": 7,
   "metadata": {},
   "outputs": [],
   "source": [
    "# Word Embeddings\n",
    "model = api.load('glove-wiki-gigaword-100')\n",
    "embeddings = []\n",
    "for doc in df['text']:\n",
    "    doc_embeddings = []\n",
    "    for word in doc.split():\n",
    "        if word in model:\n",
    "            doc_embeddings.append(model[word])\n",
    "    if len(doc_embeddings) > 0:\n",
    "        embeddings.append(np.mean(doc_embeddings, axis=0))\n",
    "    else:\n",
    "        embeddings.append(np.zeros(100))\n",
    "embedding_df = pd.DataFrame(embeddings, columns=['embedding_'+str(i) for i in range(100)])\n",
    "\n",
    "# Save the results to csv files\n",
    "bow_df.to_csv('bow.csv', index=False)\n",
    "tfidf_df.to_csv('tfidf.csv', index=False)\n",
    "lda_df.to_csv('lda.csv', index=False)\n",
    "embedding_df.to_csv('embeddings.csv', index=False)"
   ]
  }
 ],
 "metadata": {
  "kernelspec": {
   "display_name": "Python 3",
   "language": "python",
   "name": "python3"
  },
  "language_info": {
   "codemirror_mode": {
    "name": "ipython",
    "version": 3
   },
   "file_extension": ".py",
   "mimetype": "text/x-python",
   "name": "python",
   "nbconvert_exporter": "python",
   "pygments_lexer": "ipython3",
   "version": "3.10.4"
  },
  "orig_nbformat": 4,
  "vscode": {
   "interpreter": {
    "hash": "7a08528582f853724fc93c4f812e566cdd9488c17622c4c4e7d2493c4c9bb764"
   }
  }
 },
 "nbformat": 4,
 "nbformat_minor": 2
}
